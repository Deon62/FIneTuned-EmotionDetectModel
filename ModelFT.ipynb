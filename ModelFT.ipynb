{
  "cells": [
    {
      "cell_type": "markdown",
      "metadata": {
        "id": "view-in-github",
        "colab_type": "text"
      },
      "source": [
        "<a href=\"https://colab.research.google.com/github/Deon62/FIneTuned-EmotionDetectModel/blob/main/ModelFT.ipynb\" target=\"_parent\"><img src=\"https://colab.research.google.com/assets/colab-badge.svg\" alt=\"Open In Colab\"/></a>"
      ]
    },
    {
      "cell_type": "code",
      "execution_count": null,
      "metadata": {
        "id": "mjaPIy-CGsRK"
      },
      "outputs": [],
      "source": [
        "!pip install transformers datasets evaluate nlpaug\n"
      ]
    },
    {
      "cell_type": "code",
      "execution_count": null,
      "metadata": {
        "id": "4J5jBY3OILFA"
      },
      "outputs": [],
      "source": [
        "from datasets import load_dataset\n",
        "import pandas as pd\n",
        "import nlpaug.augmenter.word as naw\n",
        "from collections import Counter\n"
      ]
    },
    {
      "cell_type": "code",
      "execution_count": null,
      "metadata": {
        "id": "Z4eeBhWZIPt-"
      },
      "outputs": [],
      "source": [
        "\n",
        "ds = load_dataset(\"dair-ai/emotion\", \"split\")"
      ]
    },
    {
      "cell_type": "code",
      "execution_count": null,
      "metadata": {
        "id": "ijvY9YdHI5Oi"
      },
      "outputs": [],
      "source": [
        "print(ds)"
      ]
    },
    {
      "cell_type": "code",
      "execution_count": null,
      "metadata": {
        "id": "DMMYzvIdJAcA"
      },
      "outputs": [],
      "source": [
        "# Convert train split to DataFrame\n",
        "train_df = pd.DataFrame(ds[\"train\"])\n",
        "\n",
        "# Display first few rows\n",
        "print(train_df.head())\n",
        "\n",
        "# Class distribution\n",
        "counter = Counter(train_df[\"label\"])\n",
        "label_names = ds[\"train\"].features[\"label\"].names\n",
        "for label_id, count in counter.items():\n",
        "    print(f\"{label_names[label_id]:<8}: {count}\")\n"
      ]
    },
    {
      "cell_type": "code",
      "execution_count": null,
      "metadata": {
        "id": "0LB7fxG6JNW6"
      },
      "outputs": [],
      "source": [
        "from transformers import DistilBertTokenizerFast\n",
        "\n",
        "tokenizer = DistilBertTokenizerFast.from_pretrained(\"distilbert-base-uncased\",do_lower_case=True)"
      ]
    },
    {
      "cell_type": "code",
      "execution_count": null,
      "metadata": {
        "id": "yDEvWVx0J07S"
      },
      "outputs": [],
      "source": [
        "max_length = 128\n",
        "\n",
        "def tokenize_batch(batch):\n",
        "    return tokenizer(\n",
        "        batch[\"text\"],\n",
        "        padding=\"max_length\",\n",
        "        truncation=True,\n",
        "        max_length=max_length\n",
        "    )\n"
      ]
    },
    {
      "cell_type": "code",
      "execution_count": null,
      "metadata": {
        "id": "2f6xVtv_J8zb"
      },
      "outputs": [],
      "source": [
        "tokenized_datasets = ds.map(\n",
        "    tokenize_batch,\n",
        "    batched=True,\n",
        "    remove_columns=[\"text\"]\n",
        ")\n"
      ]
    },
    {
      "cell_type": "code",
      "execution_count": null,
      "metadata": {
        "id": "_ZWQip1AKDxn"
      },
      "outputs": [],
      "source": [
        "from transformers import DataCollatorWithPadding\n",
        "\n",
        "data_collator = DataCollatorWithPadding(\n",
        "    tokenizer=tokenizer,\n",
        "    padding=\"longest\"\n",
        ")\n"
      ]
    },
    {
      "cell_type": "code",
      "execution_count": null,
      "metadata": {
        "id": "ziSglB6wKPTq"
      },
      "outputs": [],
      "source": [
        "tokenized_datasets.set_format(\n",
        "    type=\"torch\",\n",
        "    columns=[\"input_ids\", \"attention_mask\", \"label\"]\n",
        ")\n",
        "train_ds = tokenized_datasets[\"train\"]\n",
        "val_ds   = tokenized_datasets[\"validation\"]\n",
        "test_ds  = tokenized_datasets[\"test\"]\n"
      ]
    },
    {
      "cell_type": "code",
      "execution_count": null,
      "metadata": {
        "id": "7u1V5OYxKcOE"
      },
      "outputs": [],
      "source": [
        "from transformers import (\n",
        "    DistilBertForSequenceClassification,\n",
        "    Trainer,\n",
        "    TrainingArguments\n",
        ")\n",
        "import evaluate\n"
      ]
    },
    {
      "cell_type": "code",
      "execution_count": null,
      "metadata": {
        "id": "qiWYpgpbLQ1c"
      },
      "outputs": [],
      "source": [
        "model = DistilBertForSequenceClassification.from_pretrained(\n",
        "    \"distilbert-base-uncased\",\n",
        "    num_labels=6,                # our 6 emotion classes\n",
        "    ignore_mismatched_sizes=True # safe if vocab sizes differ\n",
        ")\n"
      ]
    },
    {
      "cell_type": "code",
      "execution_count": null,
      "metadata": {
        "id": "cssk76UtLUk7"
      },
      "outputs": [],
      "source": [
        "accuracy_metric = evaluate.load(\"accuracy\")\n",
        "f1_metric       = evaluate.load(\"f1\")\n",
        "\n",
        "def compute_metrics(pred):\n",
        "    logits, labels = pred\n",
        "    preds = logits.argmax(axis=-1)\n",
        "    acc = accuracy_metric.compute(predictions=preds, references=labels)\n",
        "    f1  = f1_metric.compute(predictions=preds, references=labels, average=\"macro\")\n",
        "    return {\"accuracy\": acc[\"accuracy\"], \"f1_macro\": f1[\"f1\"]}\n"
      ]
    },
    {
      "cell_type": "code",
      "execution_count": null,
      "metadata": {
        "id": "oqSZvaeYLf3-"
      },
      "outputs": [],
      "source": [
        "training_args = TrainingArguments(\n",
        "    output_dir=\"emotion-distilbert\",\n",
        "    do_train=True,\n",
        "    do_eval=True,\n",
        "    eval_steps=500,\n",
        "    save_steps=500,\n",
        "    learning_rate=5e-5,\n",
        "    per_device_train_batch_size=16,\n",
        "    per_device_eval_batch_size=32,\n",
        "    num_train_epochs=4,\n",
        "    weight_decay=0.01,\n",
        "    warmup_ratio=0.1,\n",
        "    logging_steps=50,\n",
        "    fp16=True,\n",
        "    gradient_checkpointing=False\n",
        ")\n"
      ]
    },
    {
      "cell_type": "code",
      "execution_count": null,
      "metadata": {
        "id": "nn-b9N9gL057"
      },
      "outputs": [],
      "source": [
        "!pip install peft\n"
      ]
    },
    {
      "cell_type": "code",
      "execution_count": null,
      "metadata": {
        "id": "ml0ZytyIMKOc"
      },
      "outputs": [],
      "source": [
        "from peft import LoraConfig, get_peft_model, TaskType\n",
        "\n",
        "lora_config = LoraConfig(\n",
        "    task_type=TaskType.SEQ_CLS,\n",
        "    inference_mode=False,\n",
        "    r=8,\n",
        "    lora_alpha=32,\n",
        "    lora_dropout=0.05,\n",
        "\n",
        "    # Tell PEFT which linear modules to wrap with LoRA\n",
        "    target_modules=[\"q_lin\", \"v_lin\"]  # for DistilBERT’s attention projections\n",
        ")\n",
        "model = get_peft_model(model, lora_config)\n"
      ]
    },
    {
      "cell_type": "code",
      "execution_count": null,
      "metadata": {
        "id": "72x_RFZaNtD4"
      },
      "outputs": [],
      "source": [
        "total_params = sum(p.numel() for p in model.parameters())\n",
        "trainable_params = sum(p.numel() for p in model.parameters() if p.requires_grad)\n",
        "print(f\"Total params: {total_params:,}\")\n",
        "print(f\"Trainable params: {trainable_params:,}\")  # should be just the LoRA adapters\n"
      ]
    },
    {
      "cell_type": "code",
      "execution_count": null,
      "metadata": {
        "id": "dr4uG6EgOdYC"
      },
      "outputs": [],
      "source": [
        "from transformers import Trainer\n",
        "\n",
        "trainer = Trainer(\n",
        "    model=model,                # your LoRA-wrapped model\n",
        "    args=training_args,         # the args that worked for you\n",
        "    train_dataset=train_ds,\n",
        "    eval_dataset=val_ds,\n",
        "    tokenizer=tokenizer,\n",
        "    data_collator=data_collator,\n",
        "    compute_metrics=compute_metrics,\n",
        ")\n"
      ]
    },
    {
      "cell_type": "code",
      "execution_count": null,
      "metadata": {
        "colab": {
          "background_save": true
        },
        "id": "TZghjGGEOucI"
      },
      "outputs": [],
      "source": [
        "train_result = trainer.train()\n"
      ]
    },
    {
      "cell_type": "code",
      "execution_count": null,
      "metadata": {
        "colab": {
          "background_save": true
        },
        "id": "64JQUglwPMgG"
      },
      "outputs": [],
      "source": [
        "from sklearn.metrics import confusion_matrix, classification_report\n",
        "import numpy as np\n",
        "import pandas as pd\n",
        "\n",
        "# 1. Get predictions on the test split\n",
        "preds_output = trainer.predict(test_ds)\n",
        "pred_labels = np.argmax(preds_output.predictions, axis=-1)\n",
        "true_labels = preds_output.label_ids\n",
        "\n",
        "# 2. Map numeric IDs to emotion names\n",
        "label_names = ds[\"train\"].features[\"label\"].names\n",
        "\n",
        "# 3. Confusion Matrix\n",
        "cm = confusion_matrix(true_labels, pred_labels)\n",
        "cm_df = pd.DataFrame(cm, index=label_names, columns=label_names)\n",
        "print(\"Confusion Matrix:\\n\", cm_df)\n",
        "\n",
        "# 4. Classification Report\n",
        "cr = classification_report(true_labels, pred_labels, target_names=label_names)\n",
        "print(\"\\nClassification Report:\\n\", cr)\n"
      ]
    },
    {
      "cell_type": "code",
      "execution_count": null,
      "metadata": {
        "colab": {
          "background_save": true
        },
        "id": "rI9TzXt0RFCz"
      },
      "outputs": [],
      "source": [
        "model.save_pretrained(\"Deon_emotion-model\")\n",
        "tokenizer.save_pretrained(\"Deon-emotion-model\")\n"
      ]
    },
    {
      "cell_type": "code",
      "execution_count": null,
      "metadata": {
        "id": "Ul2wZf25SewI"
      },
      "outputs": [],
      "source": [
        "# from huggingface_hub import login\n",
        "# login()\n",
        "\n"
      ]
    },
    {
      "cell_type": "code",
      "execution_count": null,
      "metadata": {
        "colab": {
          "background_save": true
        },
        "id": "l5eR6XGJS3gk"
      },
      "outputs": [],
      "source": [
        "model.push_to_hub(\"chinesemusk/Deon_emotion-model\")\n",
        "tokenizer.push_to_hub(\"chinesemusk/Deon-emotion-model\")"
      ]
    },
    {
      "cell_type": "code",
      "execution_count": null,
      "metadata": {
        "colab": {
          "background_save": true
        },
        "id": "MWGJicdXTaB_"
      },
      "outputs": [],
      "source": [
        "from transformers import (\n",
        "    DistilBertForSequenceClassification,\n",
        "    DistilBertTokenizerFast,\n",
        "    pipeline\n",
        ")\n",
        "from peft import PeftModel\n",
        "\n",
        "# 1. Load the base model with the correct label count\n",
        "base = DistilBertForSequenceClassification.from_pretrained(\n",
        "    \"distilbert-base-uncased\",\n",
        "    num_labels=6\n",
        ")\n",
        "\n",
        "# 2. Attach your LoRA adapters from your Hub repo\n",
        "model = PeftModel.from_pretrained(\n",
        "    base,\n",
        "    \"chinesemusk/Deon_emotion-model\"  # your model repo name\n",
        ")\n",
        "\n",
        "# 3. Load the matching tokenizer (from the same repo)\n",
        "tokenizer = DistilBertTokenizerFast.from_pretrained(\n",
        "    \"chinesemusk/Deon-emotion-model\"\n",
        ")\n",
        "\n",
        "# 4. Build the pipeline on that exact model+tokenizer\n",
        "classifier = pipeline(\n",
        "    \"text-classification\",\n",
        "    model=model,\n",
        "    tokenizer=tokenizer,\n",
        "    return_all_scores=True\n",
        ")\n",
        "\n",
        "# 5. Test it!\n",
        "print(classifier(\"I just got promoted at work — I'm over the moon!\"))\n"
      ]
    },
    {
      "cell_type": "code",
      "execution_count": null,
      "metadata": {
        "id": "hGCnx_p2TnNq"
      },
      "outputs": [],
      "source": [
        "import torch\n",
        "import torch.nn.functional as F\n",
        "\n",
        "# 1. Put model in eval mode & move to GPU if available\n",
        "device = \"cuda\" if torch.cuda.is_available() else \"cpu\"\n",
        "model.to(device).eval()\n",
        "\n",
        "# 2. Define label names\n",
        "label_names = ds[\"train\"].features[\"label\"].names\n",
        "\n",
        "def predict_emotion(text: str):\n",
        "    # Tokenize & convert to tensors\n",
        "    inputs = tokenizer(\n",
        "        text,\n",
        "        padding=\"max_length\",\n",
        "        truncation=True,\n",
        "        max_length=128,\n",
        "        return_tensors=\"pt\"\n",
        "    ).to(device)\n",
        "\n",
        "    # Forward pass (LoRA adapters are active)\n",
        "    with torch.no_grad():\n",
        "        outputs = model(**inputs)\n",
        "        logits = outputs.logits\n",
        "\n",
        "    # Softmax → probabilities\n",
        "    probs = F.softmax(logits, dim=-1).squeeze().cpu().tolist()\n",
        "\n",
        "    # Pair labels & scores\n",
        "    return dict(zip(label_names, probs))\n",
        "\n",
        "# 3. Try it out\n",
        "print(predict_emotion(\"I can't believe how beautiful the sunset is!\"))\n"
      ]
    },
    {
      "cell_type": "code",
      "execution_count": null,
      "metadata": {
        "id": "abRIcV08VFdO"
      },
      "outputs": [],
      "source": [
        "merged_model = model.merge_and_unload()\n",
        "merged_model.push_to_hub(\"chinesemusk/Deon_emotion-model-full\")\n",
        "tokenizer.push_to_hub(\"chinesemusk/Deon-emotion-model-full\")\n"
      ]
    },
    {
      "cell_type": "code",
      "execution_count": null,
      "metadata": {
        "id": "GrIK1PxdVzBs"
      },
      "outputs": [],
      "source": [
        "from transformers import pipeline\n",
        "\n",
        "classifier = pipeline(\n",
        "    \"text-classification\",\n",
        "    model=\"chinesemusk/Deon_emotion-model-full\",\n",
        "    tokenizer=\"chinesemusk/Deon-emotion-model-full\",\n",
        "    top_k=None  # returns all class scores\n",
        ")\n",
        "\n",
        "text = \"I'm feeling really hopeful and excited today!\"\n",
        "results = classifier(text)\n",
        "print(results)\n"
      ]
    },
    {
      "cell_type": "code",
      "execution_count": null,
      "metadata": {
        "id": "mfyiK_0gWHv2"
      },
      "outputs": [],
      "source": [
        "!pip install gradio\n",
        "import gradio as gr\n",
        "from transformers import pipeline\n",
        "\n",
        "# Load your model and tokenizer from Hugging Face\n",
        "classifier = pipeline(\n",
        "    \"text-classification\",\n",
        "    model=\"chinesemusk/Deon_emotion-model-full\",\n",
        "    tokenizer=\"chinesemusk/Deon-emotion-model-full\",\n",
        "    top_k=None  # to show scores for all classes\n",
        ")\n",
        "\n",
        "# Define the interface function\n",
        "def classify_emotion(text):\n",
        "    results = classifier(text)[0]\n",
        "    # Format results for display\n",
        "    return {res['label']: float(f\"{res['score']:.3f}\") for res in results}\n",
        "\n",
        "# Launch the Gradio UI\n",
        "gr.Interface(\n",
        "    fn=classify_emotion,\n",
        "    inputs=gr.Textbox(lines=2, placeholder=\"Enter a sentence...\"),\n",
        "    outputs=gr.Label(num_top_classes=6),\n",
        "    title=\"Deon Emotion Classifier\",\n",
        "    description=\"Enter a sentence to detect the expressed emotion (joy, love, sadness, anger, fear, surprise).\"\n",
        ").launch()\n"
      ]
    },
    {
      "cell_type": "code",
      "execution_count": null,
      "metadata": {
        "id": "RiSsoyXTYJd2"
      },
      "outputs": [],
      "source": [
        "# app.py\n",
        "import gradio as gr\n",
        "from transformers import pipeline\n",
        "\n",
        "# Load pipeline from your fine-tuned model\n",
        "classifier = pipeline(\n",
        "    \"text-classification\",\n",
        "    model=\"chinesemusk/Deon_emotion-model-full\",\n",
        "    tokenizer=\"chinesemusk/Deon-emotion-model-full\",\n",
        "    top_k=None,  # Show all class probabilities\n",
        "    device=0  # Use GPU if available\n",
        ")\n",
        "\n",
        "# Define prediction function\n",
        "def predict_emotion(text):\n",
        "    results = classifier(text)[0]\n",
        "    # Format as label: probability%\n",
        "    return {res[\"label\"]: float(f\"{res['score']:.4f}\") for res in results}\n",
        "\n",
        "# Build Gradio interface\n",
        "demo = gr.Interface(\n",
        "    fn=predict_emotion,\n",
        "    inputs=gr.Textbox(lines=3, placeholder=\"Enter text here...\"),\n",
        "    outputs=gr.Label(num_top_classes=6),\n",
        "    title=\"Deon Emotion Classifier\",\n",
        "    description=\"Predicts emotion from English text using a fine-tuned DistilBERT model. Try inputs like 'I love this moment' or 'I'm scared.'\",\n",
        "    examples=[\n",
        "        [\"I love this!\"],\n",
        "        [\"I feel so empty today...\"],\n",
        "        [\"This is amazing!\"],\n",
        "        [\"I'm really angry right now\"],\n",
        "        [\"What a shocking turn of events!\"]\n",
        "    ]\n",
        ")\n",
        "\n",
        "if __name__ == \"__main__\":\n",
        "    demo.launch()\n"
      ]
    },
    {
      "cell_type": "code",
      "execution_count": null,
      "metadata": {
        "colab": {
          "background_save": true
        },
        "id": "ADmds653ZaMz"
      },
      "outputs": [],
      "source": []
    }
  ],
  "metadata": {
    "accelerator": "GPU",
    "colab": {
      "gpuType": "T4",
      "provenance": [],
      "authorship_tag": "ABX9TyNwwqHQd2WfqW/z4Nn2O3aY",
      "include_colab_link": true
    },
    "kernelspec": {
      "display_name": "Python 3",
      "name": "python3"
    },
    "language_info": {
      "name": "python"
    }
  },
  "nbformat": 4,
  "nbformat_minor": 0
}